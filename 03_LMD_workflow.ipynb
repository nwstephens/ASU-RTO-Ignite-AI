{
 "cells": [
  {
   "cell_type": "markdown",
   "id": "a310374b",
   "metadata": {},
   "source": [
    "# <center><font color=#76B900 size=\"+3\"><b>**NVIDIA cuOpt for CVRPTW**</b></font></center>\n",
    "---\n",
    "\n",
    "**Learning Objectives:**\n",
    "- Introducing multiple cosntrints to model more complex problems\n",
    "- Using real-world data and running data preprocessing\n",
    "- Integrating third-party tools for traffic data\n",
    "  \n",
    "In this notebook, we will use cuOpt to solve a real world application of a Capacitated Vehicle Routing Problem with Time Windows (CVRPTW). This use case is also called Last Mile Delivery (LMD).\n",
    "\n",
    "Suppose you are working as an Optimization Scientist at a grocery chain throughout New York City. There are 97 stores and 3 distribution centers. Every day, stores place an order for food that must be delivered the next day to ensure they are fully stocked. Given input data about stores' orders, distribution centers, and the available fleet of vehicles, it is your job to calculate the route for each vehicle such that all orders are fulfilled while minimizing vehicles' travel time and cost. For a problem space of 100 locations there are about 100! possible routes. You can do the math yourself- but that's a lot. Lucky for you, you have access to the cuOpt solver. All you need to do is read the input data and preprocess the data. Once all the data is ready, you just need to save it to one Python dictionary and send it to cuOpt, which does all the hard computation for you.\n",
    "\n",
    "Let's walk through these steps. \n",
    "\n",
    "For the Last Mile Delivery (LMD) use case, we need 3 datasets with the following features:\n",
    "\n",
    "- Depots\n",
    "    - Name\n",
    "    - Location\n",
    "    - Start and end time (operation hours)\n",
    "- Orders\n",
    "    - Store Name\n",
    "    - Location\n",
    "    - Start and end time (store hours)\n",
    "    - Demand\n",
    "    - Service time\n",
    "    - Loyalty Member\n",
    "    - Delivery Requirement\n",
    "- Vehicles\n",
    "    - Name/ID Number\n",
    "    - Assigned depot\n",
    "    - Start and end time (vehicle/driver shift hours)\n",
    "    - Break time\n",
    "    - Capacity\n",
    "    - Max time\n",
    "    \n",
    "You may have additional features depending on the problem at hand.\n"
   ]
  },
  {
   "cell_type": "code",
   "execution_count": 1,
   "id": "cfc83aad",
   "metadata": {},
   "outputs": [],
   "source": [
    "#import dependencies\n",
    "import pandas as pd\n",
    "from IPython.display import HTML\n",
    "import requests\n",
    "import json\n",
    "from scipy.spatial import distance\n",
    "\n",
    "from helper_function.notebook_helpers import show_vehicle_routes, get_minutes_from_datetime\n",
    "from helper_function.map_helpers import get_map_by_vehicle\n",
    "\n",
    "# from ../tmp/cuopt_managed_service/cuopt_thin_client import CuOptServiceClient"
   ]
  },
  {
   "cell_type": "markdown",
   "id": "327d93b2",
   "metadata": {},
   "source": [
    "<br>\n",
    "\n",
    "## Read input data from CSV files"
   ]
  },
  {
   "cell_type": "markdown",
   "id": "4e2f06bb",
   "metadata": {},
   "source": [
    "Here, we are using real world addresses instead of points in the Euclidean space. Location data needs to be in the form of coordinate points (longitude and latitude values). Our data already has coordinate points included. If you're using new data and need to do so yourself, you will need to use a third party tool."
   ]
  },
  {
   "cell_type": "markdown",
   "id": "3961bd53-8dd8-4dd9-be82-904788b8c828",
   "metadata": {},
   "source": [
    "In this workflow, we are using locations from the following [Kaggle dataset](https://www.kaggle.com/datasets/arianazmoudeh/airbnbopendata). This is a dataset of Airbnbs in New York City. Our problem space has 100 locations total which includes 3 depots and 97 orders. The coordinate points are taken from the dataset and the rest of the features are synthetic data. We have 15 vehicles available."
   ]
  },
  {
   "cell_type": "code",
   "execution_count": 2,
   "id": "98067624",
   "metadata": {},
   "outputs": [],
   "source": [
    "DATA_PATH = \"data/\"\n",
    "\n",
    "orders_df = pd.read_csv(DATA_PATH+\"orders_lmd.csv\")\n",
    "depots_df = pd.read_csv(DATA_PATH+\"depots_lmd.csv\")\n",
    "vehicles_df = pd.read_csv(DATA_PATH+\"vehicles_lmd.csv\")"
   ]
  },
  {
   "cell_type": "code",
   "execution_count": 3,
   "id": "1377201a-aed2-4289-9afb-fa010549c232",
   "metadata": {},
   "outputs": [],
   "source": [
    "n_depots = len(depots_df.index)\n",
    "n_orders = len(orders_df.index)\n",
    "n_vehicles = len(vehicles_df.index)\n",
    "\n",
    "n_loc_total = n_orders + n_depots"
   ]
  },
  {
   "cell_type": "code",
   "execution_count": 4,
   "id": "3f7410c2-ab27-4e34-a1ec-be7a0a81ebbe",
   "metadata": {},
   "outputs": [],
   "source": [
    "locations_df = (pd.concat([depots_df[[\"Name\",\"Longitude\",\"Latitude\"]], orders_df[[\"Name\",\"Longitude\",\"Latitude\"]]], ignore_index=True)).reset_index()"
   ]
  },
  {
   "cell_type": "markdown",
   "id": "ee8cfacb",
   "metadata": {},
   "source": [
    "<br>\n",
    "\n",
    "## Create Cost Matrix\n",
    "\n",
    "The **cost matrix** models the cost between each pair of locations.  It is used by cuOpt to compute the cost of traveling from any location to any other. The cost matrix needs to be a square matrix of dimension equal to the total number of locations which inlcludes both depots and orders. In this Vehicle Routing Problem, our cost metric is travel time. This is cost we want to minimize. \n",
    "\n",
    "To build a a cost matrix of live traffic data, we need to use a third party map data provider. In this workflow, the cost matrix will calculate the travel time in minutes between each two pairs of locations which we build using [OSRM](https://project-osrm.org/).\n",
    "\n",
    "\n",
    "In practical applications, you can integrate this to a third-party map data provider like Esri or Google Maps to get live traffic data and run dynamic/real-time re-routing using cuOpt."
   ]
  },
  {
   "cell_type": "code",
   "execution_count": 13,
   "id": "2d83b1a0",
   "metadata": {},
   "outputs": [],
   "source": [
    " def build_travel_time_matrix(df):\n",
    "    latitude = df.Latitude.to_numpy()\n",
    "    longitude = df.Longitude.to_numpy()\n",
    "    \n",
    "    locations=\"\"\n",
    "    n_orders = len(df)\n",
    "    for i in range(n_orders):\n",
    "        locations = locations + \"{},{};\".format(longitude[i], latitude[i])\n",
    "    r = requests.get(\"http://router.project-osrm.org/table/v1/car/\"+ locations[:-1])\n",
    "    routes = json.loads(r.content)\n",
    "    \n",
    "    # OSRM returns duration in seconds. Here we are converting to minutes\n",
    "    for i in routes['durations']:\n",
    "        i[:] = [x / 60 for x in i]\n",
    "    \n",
    "    coords_index = { i: (latitude[i], longitude[i]) for i in range(df.shape[0])}\n",
    "    time_matrix = pd.DataFrame(routes['durations'])\n",
    "    \n",
    "    return time_matrix"
   ]
  },
  {
   "cell_type": "code",
   "execution_count": 14,
   "id": "508620d5",
   "metadata": {},
   "outputs": [],
   "source": [
    "cost_matrix_df = build_travel_time_matrix(locations_df)"
   ]
  },
  {
   "cell_type": "markdown",
   "id": "66310b3b",
   "metadata": {},
   "source": [
    "<br>\n",
    "\n",
    "## Preprocess Fleet and Task Data\n",
    "\n",
    "Here, we take our raw input data and convert it to the format needed for cuOpt."
   ]
  },
  {
   "cell_type": "markdown",
   "id": "87dbc6d9",
   "metadata": {},
   "source": [
    "### Set Fleet Data"
   ]
  },
  {
   "cell_type": "markdown",
   "id": "1ee272e2",
   "metadata": {},
   "source": [
    "Here we take our raw data from the csv file and convert it into data that we can send to the cuOpt solver.\n",
    "\n",
    "- vehicle_locations is a list of the start and end location of the vehicles. Each vehicle is assigned to a depot from which it departs in the morning and returns to at night. For example, a vehicle that starts and ends in depot 1 which is the location at index 0 would have the vehicle location of [0,0]. \n",
    "\n",
    "- capacities is a list of how much goods each vehicle can carry in weight. Here we have two different types of vehicles: trucks and EV vans. A truck can carry up to 20,000 pounds and an EV van can carry up to 8,000 pounds. This is essential when assigning orders to vehicles because one vehicle can only carry so many orders at once. \n",
    "\n",
    "- vehicle_time_windows is a list of the integer representation of the operating time of each vehicle. Equivalently, the shift of each vehicle driver. We convert the UTC timestamp to epoch time (integer representation in minutes).\n",
    "\n",
    "- vehicle_break_time_windows is a list of the integer representation of break time of each vehicle within its operating time. For a driver working an 8 hour shift, this break in the middle of the day represents their lunch break. These time windows are when their lunch break may occur.\n",
    "  \n",
    "- vehicle_break_durations is the length of the break. Here, we set the duration to be 30 minutes for all vehicles. \n",
    "\n",
    "- vehicle_max_time is a list of the maximum time a vehicle can operate. Even if a driver is available for a long period of time, this constraint enforces a maximum length for a driver's shift. This is also given in minutes. A driver's time window represents total availability which may be longer than a standard shift length. If a driver says they are available to work from 9am to 9pm, we still want to limit their shift to be shorter. A truck driver can drive up to 7 hours, and an EV driver can drive up to 4 hours. "
   ]
  },
  {
   "cell_type": "code",
   "execution_count": 6,
   "id": "f9cdc911",
   "metadata": {},
   "outputs": [],
   "source": [
    "depot_names_to_indices_dict = {locations_df[\"Name\"].values.tolist()[i]: i for i in range(n_depots)}\n",
    "vehicle_locations = vehicles_df[[\"assigned_depot\",\"assigned_depot\"]].replace(depot_names_to_indices_dict).values.tolist()"
   ]
  },
  {
   "cell_type": "code",
   "execution_count": 7,
   "id": "8140752d",
   "metadata": {},
   "outputs": [],
   "source": [
    "capacities = [[int(a) for a in vehicles_df['vehicle_capacity'].tolist()]]"
   ]
  },
  {
   "cell_type": "code",
   "execution_count": 8,
   "id": "f0520835",
   "metadata": {},
   "outputs": [],
   "source": [
    "vehicle_time_windows = pd.concat((vehicles_df['vehicle_start'].apply(get_minutes_from_datetime).to_frame(), vehicles_df['vehicle_end'].apply(get_minutes_from_datetime).to_frame()), axis=1).values.tolist()"
   ]
  },
  {
   "cell_type": "code",
   "execution_count": 9,
   "id": "4c91b7db-e09c-44ea-b004-354fb6f87a05",
   "metadata": {},
   "outputs": [],
   "source": [
    "vehicle_break_time_windows = [pd.concat((vehicles_df['break_start'].apply(get_minutes_from_datetime).to_frame(), vehicles_df['break_end'].apply(get_minutes_from_datetime).to_frame()), axis=1).values.tolist()]"
   ]
  },
  {
   "cell_type": "code",
   "execution_count": 10,
   "id": "5b905b81-3881-4217-8f89-d4ebd44aa6be",
   "metadata": {},
   "outputs": [],
   "source": [
    "vehicle_break_durations = [[30] * n_vehicles]"
   ]
  },
  {
   "cell_type": "code",
   "execution_count": 11,
   "id": "1567d1b2-caca-4fb0-9706-20c97db350ef",
   "metadata": {},
   "outputs": [],
   "source": [
    "vehicles_max_time = vehicles_df['max_time'].tolist()"
   ]
  },
  {
   "cell_type": "markdown",
   "id": "49c9a0d3",
   "metadata": {},
   "source": [
    "### Set Task Data\n"
   ]
  },
  {
   "cell_type": "markdown",
   "id": "16fc19fb",
   "metadata": {},
   "source": [
    "Here we take our raw data from the csv file and convert it into data that we can send to the cuOpt solver.\n",
    "\n",
    "- task_locations is the list of stores that have placed an order. This list is simply the index of each location. \n",
    "\n",
    "- task_time_windows is the list of integer representation of opening hours for each store. We convert the UTC timestamp to epoch time (integer representation in minutes).\n",
    "\n",
    "- service_times is the list of the length of time for orders to be dropped off once the vehicle reaches the location. Here, these values are between 15 and 30 minutes.\n",
    "\n",
    "- demand is the list of weight demand for each order. Here, these values are between 40 and 200 pounds. \n",
    "\n",
    "- vehicle_match_list allows us to ensure that some orders are assigned to specific vehicles. In this use case, some of the orders are frozen and can be delivered in trucks and not EV vans. Here we can indicate that the frozen orders are assigned specifically to vehicles that are trucks.  "
   ]
  },
  {
   "cell_type": "code",
   "execution_count": 15,
   "id": "36ed75d3",
   "metadata": {},
   "outputs": [],
   "source": [
    "task_locations = locations_df.index.tolist()[n_depots:]"
   ]
  },
  {
   "cell_type": "code",
   "execution_count": 16,
   "id": "a7b46d22",
   "metadata": {},
   "outputs": [],
   "source": [
    "demands = [orders_df['Demand'].values.tolist()]"
   ]
  },
  {
   "cell_type": "code",
   "execution_count": 17,
   "id": "1215178a",
   "metadata": {},
   "outputs": [],
   "source": [
    "service_times = orders_df['ServiceTime'].values.tolist()"
   ]
  },
  {
   "cell_type": "code",
   "execution_count": 18,
   "id": "6d734475",
   "metadata": {},
   "outputs": [],
   "source": [
    "task_time_windows = pd.concat((orders_df['order_start_time'].apply(get_minutes_from_datetime).to_frame(), orders_df['order_end_time'].apply(get_minutes_from_datetime).to_frame()), axis=1).values.tolist()"
   ]
  },
  {
   "cell_type": "code",
   "execution_count": 19,
   "id": "061e0701-de16-45fc-9bac-556d8af25be8",
   "metadata": {},
   "outputs": [],
   "source": [
    "trucks_ids = vehicles_df['vehicle_type'][vehicles_df['vehicle_type']==\"Truck\"].index.values.tolist()"
   ]
  },
  {
   "cell_type": "code",
   "execution_count": 20,
   "id": "0447d298-94b0-4630-bc20-1a7ace475ae3",
   "metadata": {
    "tags": []
   },
   "outputs": [],
   "source": [
    "vehicle_match_list = []\n",
    "for i in orders_df['is_frozen'][orders_df['is_frozen']==1].index.values.tolist():\n",
    "    vehicle_match_list.append({\"order_id\": i, \"vehicle_ids\": trucks_ids})"
   ]
  },
  {
   "cell_type": "markdown",
   "id": "bf0db186",
   "metadata": {},
   "source": [
    "<br>\n",
    "\n",
    "## Save data in a dictionary\n",
    "\n",
    "Here, we take all the data we have prepared so far and save it to one dictionary. This includes the cost matrices, task data, fleet data, and solver config. This is all the data that cuOpt needs to solve our LMD problem. "
   ]
  },
  {
   "cell_type": "code",
   "execution_count": 34,
   "id": "5596a044-d26c-4c2a-8ed5-db7374564ccc",
   "metadata": {},
   "outputs": [],
   "source": [
    "cuopt_problem_data = {\n",
    "    \"cost_matrix_data\": {\n",
    "        \"cost_matrix\": {\n",
    "            \"0\": cost_matrix_df.to_numpy().tolist()\n",
    "        }\n",
    "    },\n",
    "    \"travel_time_matrix_data\": {\n",
    "        \"cost_matrix\": {\n",
    "            \"0\": cost_matrix_df.to_numpy().tolist()\n",
    "        }\n",
    "    },\n",
    "    \"task_data\": {\n",
    "        \"task_locations\": task_locations,\n",
    "        \"demand\": demands,\n",
    "        \"task_time_windows\": task_time_windows,\n",
    "        \"service_times\":service_times,\n",
    "        \"order_vehicle_match\": vehicle_match_list,\n",
    "    },\n",
    "    \"fleet_data\": {\n",
    "        \"vehicle_locations\": vehicle_locations,\n",
    "        \"capacities\": capacities,\n",
    "        \"vehicle_time_windows\": vehicle_time_windows,\n",
    "        \"vehicle_break_time_windows\": vehicle_break_time_windows,\n",
    "        \"vehicle_break_durations\": vehicle_break_durations,\n",
    "        \"vehicle_max_times\": vehicles_max_time,\n",
    "    },\n",
    "    \"solver_config\": {\n",
    "        \"time_limit\": 0.1,\n",
    "    }\n",
    "}"
   ]
  },
  {
   "cell_type": "code",
   "execution_count": 35,
   "id": "ee0c09c0-a6c4-4161-9e98-501a1f89ee23",
   "metadata": {},
   "outputs": [],
   "source": [
    "import json\n",
    "# Convert and write JSON object to file\n",
    "with open(\"cuopt_data_lmd.json\", \"w\") as outfile: \n",
    "    json.dump(cuopt_problem_data, outfile)"
   ]
  },
  {
   "cell_type": "markdown",
   "id": "9e07895f",
   "metadata": {},
   "source": [
    "\n",
    "<br>\n",
    "\n",
    "## Create a Service Client Instance\n",
    "\n",
    "Now that we have prepared all of our data, we can establish a connection to the cuOpt service. \n",
    "\n",
    "In the cell below, paste your client ID and Secret that you received via email in order to authenticate the connection. \n",
    "\n",
    "Here, we create an instance of the cuOpt Service Client to establish a connection. \n"
   ]
  },
  {
   "cell_type": "code",
   "execution_count": 36,
   "id": "1a8c425f",
   "metadata": {
    "scrolled": true
   },
   "outputs": [
    {
     "ename": "NameError",
     "evalue": "name 'CuOptServiceClient' is not defined",
     "output_type": "error",
     "traceback": [
      "\u001b[0;31m---------------------------------------------------------------------------\u001b[0m",
      "\u001b[0;31mNameError\u001b[0m                                 Traceback (most recent call last)",
      "Cell \u001b[0;32mIn[36], line 4\u001b[0m\n\u001b[1;32m      1\u001b[0m cuopt_client_id \u001b[38;5;241m=\u001b[39m \u001b[38;5;124m\"\u001b[39m\u001b[38;5;124mnvssa-prd-Pwqn82nr9tjKCn_L0XLaiGUjFC-jbsaUYrm0T7Y7J14\u001b[39m\u001b[38;5;124m\"\u001b[39m\n\u001b[1;32m      2\u001b[0m cuopt_client_secret \u001b[38;5;241m=\u001b[39m \u001b[38;5;124m\"\u001b[39m\u001b[38;5;124mssap-B6kzpkUQQ3YcfCU\u001b[39m\u001b[38;5;124m\"\u001b[39m\n\u001b[0;32m----> 4\u001b[0m cuopt_service_client \u001b[38;5;241m=\u001b[39m \u001b[43mCuOptServiceClient\u001b[49m(\n\u001b[1;32m      5\u001b[0m     client_id\u001b[38;5;241m=\u001b[39mcuopt_client_id,\n\u001b[1;32m      6\u001b[0m     client_secret\u001b[38;5;241m=\u001b[39mcuopt_client_secret,\n\u001b[1;32m      7\u001b[0m     )\n",
      "\u001b[0;31mNameError\u001b[0m: name 'CuOptServiceClient' is not defined"
     ]
    }
   ],
   "source": [
    "# need to change once we connect to educational client\n",
    " \n",
    "cuopt_client_id = \"nvssa-prd-Pwqn82nr9tjKCn_L0XLaiGUjFC-jbsaUYrm0T7Y7J14\"\n",
    "cuopt_client_secret = \"ssap-B6kzpkUQQ3YcfCU\"\n",
    "\n",
    "cuopt_service_client = CuOptServiceClient(\n",
    "    client_id=cuopt_client_id,\n",
    "    client_secret=cuopt_client_secret,\n",
    "    )"
   ]
  },
  {
   "cell_type": "markdown",
   "id": "5568eafb",
   "metadata": {},
   "source": [
    "<br>\n",
    "\n",
    "## Make the cuOpt API call\n",
    "---"
   ]
  },
  {
   "cell_type": "code",
   "execution_count": 37,
   "id": "3d1b731d-9f5b-489f-bc16-3a47c22539b6",
   "metadata": {},
   "outputs": [
    {
     "name": "stdout",
     "output_type": "stream",
     "text": [
      "2024-01-05 14:33:37.441 cuopt_thin_client.cuopt_service_client INFO Using Cached Token\n",
      "{'response': {'solver_response': {'status': 0, 'num_vehicles': 10, 'solution_cost': 376.989990234375, 'vehicle_data': {'0': {'task_id': ['Depot', '57', '8', '66', '30', '91', 'Break', 'Depot'], 'arrival_stamp': [661.806640625, 664.2100219726562, 687.856689453125, 707.7433471679688, 731.7766723632812, 761.4033203125, 781.0, 811.0], 'type': ['Depot', 'Delivery', 'Delivery', 'Delivery', 'Delivery', 'Delivery', 'Break', 'Depot'], 'route': [0, 60, 11, 69, 33, 94, 0, 0]}, '1': {'task_id': ['Depot', '85', '19', '38', '54', '77', '45', 'Break', '31', '72', '67', '95', '48', '70', '65', '24', 'Depot'], 'arrival_stamp': [570.0, 579.4966430664062, 612.6799926757812, 634.5083618164062, 663.538330078125, 688.5750122070312, 719.760009765625, 745.9116821289062, 775.9116821289062, 807.64501953125, 826.0416870117188, 851.32666015625, 877.4716796875, 903.9833374023438, 921.3316650390625, 943.6666870117188, 988.933349609375], 'type': ['Depot', 'Delivery', 'Delivery', 'Delivery', 'Delivery', 'Delivery', 'Delivery', 'Break', 'Delivery', 'Delivery', 'Delivery', 'Delivery', 'Delivery', 'Delivery', 'Delivery', 'Delivery', 'Depot'], 'route': [2, 88, 22, 41, 57, 80, 48, 34, 34, 75, 70, 98, 51, 73, 68, 27, 2]}, '2': {'task_id': ['Depot', '7', '75', '44', '15', 'Break', '32', '41', '56', 'Depot'], 'arrival_stamp': [690.5416870117188, 695.9533081054688, 729.9083251953125, 764.0833129882812, 790.0633544921875, 818.0, 848.0, 869.8250122070312, 897.6683349609375, 929.5133056640625], 'type': ['Depot', 'Delivery', 'Delivery', 'Delivery', 'Delivery', 'Break', 'Delivery', 'Delivery', 'Delivery', 'Depot'], 'route': [0, 10, 78, 47, 18, 35, 35, 44, 59, 0]}, '3': {'task_id': ['Depot', 'Break', '26', '12', '25', '11', '86', '27', '33', 'Depot'], 'arrival_stamp': [738.0, 738.0, 769.3833618164062, 792.0616455078125, 818.8099975585938, 841.1166381835938, 872.143310546875, 891.2566528320312, 922.5133056640625, 951.9849853515625], 'type': ['Depot', 'Break', 'Delivery', 'Delivery', 'Delivery', 'Delivery', 'Delivery', 'Delivery', 'Delivery', 'Depot'], 'route': [1, 1, 29, 15, 28, 14, 89, 30, 36, 1]}, '4': {'task_id': ['Depot', '5', '83', '84', '18', 'Break', '79', '76', '47', '10', '88', '94', '71', '55', '87', '60', '63', 'Depot'], 'arrival_stamp': [618.6849975585938, 622.4266967773438, 653.5616455078125, 674.219970703125, 692.0, 711.0, 741.7133178710938, 766.4933471679688, 783.4666748046875, 801.6616821289062, 829.719970703125, 858.1283569335938, 881.094970703125, 910.60498046875, 928.9183349609375, 959.4166870117188, 991.5066528320312, 1024.3717041015625], 'type': ['Depot', 'Delivery', 'Delivery', 'Delivery', 'Delivery', 'Break', 'Delivery', 'Delivery', 'Delivery', 'Delivery', 'Delivery', 'Delivery', 'Delivery', 'Delivery', 'Delivery', 'Delivery', 'Delivery', 'Depot'], 'route': [2, 8, 86, 87, 21, 21, 82, 79, 50, 13, 91, 97, 74, 58, 90, 63, 66, 2]}, '5': {'task_id': ['Depot', '50', '58', '81', '51', '52', '64', '0', 'Break', '82', 'Depot'], 'arrival_stamp': [628.5816650390625, 630.0, 662.8599853515625, 681.8200073242188, 711.6466674804688, 730.719970703125, 756.8416748046875, 771.8599853515625, 794.3633422851562, 824.3633422851562, 850.7366943359375], 'type': ['Depot', 'Delivery', 'Delivery', 'Delivery', 'Delivery', 'Delivery', 'Delivery', 'Delivery', 'Break', 'Delivery', 'Depot'], 'route': [2, 53, 61, 84, 54, 55, 67, 3, 85, 85, 2]}, '6': {'task_id': ['Depot', '68', '39', '42', '73', '93', '40', '53', '49', 'Break', '90', '69', '3', '4', '46', '2', 'Depot'], 'arrival_stamp': [555.0, 561.135009765625, 601.52001953125, 631.9600219726562, 651.3433227539062, 685.0816650390625, 705.3333129882812, 735.0549926757812, 756.4266967773438, 780.4266967773438, 813.5616455078125, 835.2433471679688, 863.780029296875, 891.3866577148438, 907.211669921875, 935.3966674804688, 967.5733032226562], 'type': ['Depot', 'Delivery', 'Delivery', 'Delivery', 'Delivery', 'Delivery', 'Delivery', 'Delivery', 'Delivery', 'Break', 'Delivery', 'Delivery', 'Delivery', 'Delivery', 'Delivery', 'Delivery', 'Depot'], 'route': [2, 71, 42, 45, 76, 96, 43, 56, 52, 52, 93, 72, 6, 7, 49, 5, 2]}, '7': {'task_id': ['Depot', '23', '16', '92', '14', '1', '96', 'Break', '9', 'Depot'], 'arrival_stamp': [653.5966796875, 655.8099975585938, 690.5333251953125, 714.3316650390625, 737.3533325195312, 759.8333129882812, 793.0, 818.0, 861.4400024414062, 888.288330078125], 'type': ['Depot', 'Delivery', 'Delivery', 'Delivery', 'Delivery', 'Delivery', 'Delivery', 'Break', 'Delivery', 'Depot'], 'route': [0, 26, 19, 95, 17, 4, 99, 99, 12, 0]}, '8': {'task_id': ['Depot', '28', '34', '74', '36', '62', 'Break', 'Depot'], 'arrival_stamp': [597.193359375, 600.0, 620.239990234375, 646.7150268554688, 674.6400146484375, 703.64501953125, 727.0650024414062, 762.3699951171875], 'type': ['Depot', 'Delivery', 'Delivery', 'Delivery', 'Delivery', 'Delivery', 'Break', 'Depot'], 'route': [2, 31, 37, 77, 39, 65, 74, 2]}, '9': {'task_id': ['Depot', '13', '43', '22', '17', '59', '61', '35', '29', 'Break', '6', '89', '80', '78', '20', '37', '21', 'Depot'], 'arrival_stamp': [555.0, 557.181640625, 592.4266967773438, 614.2816772460938, 641.2633056640625, 672.5433349609375, 691.8300170898438, 721.8049926757812, 743.1300048828125, 766.1300048828125, 796.2050170898438, 821.3516845703125, 841.4500122070312, 864.5533447265625, 885.9216918945312, 912.5466918945312, 939.92333984375, 974.6233520507812], 'type': ['Depot', 'Delivery', 'Delivery', 'Delivery', 'Delivery', 'Delivery', 'Delivery', 'Delivery', 'Delivery', 'Break', 'Delivery', 'Delivery', 'Delivery', 'Delivery', 'Delivery', 'Delivery', 'Delivery', 'Depot'], 'route': [0, 16, 46, 25, 20, 62, 64, 38, 32, 32, 9, 92, 83, 81, 23, 40, 24, 0]}}}}, 'reqId': '45078585-416b-450c-af5e-d4fd7e76d65f'}\n"
     ]
    }
   ],
   "source": [
    "# need to change once we connect to educational client\n",
    "\n",
    "!python /Users/adigeva/Desktop/cuOpt/route-opt-workflow/route-opt-workflow-env/lib/python3.10/site-packages/cuopt_thin_client/cuopt_cli.py cuopt_data_lmd.json -c ../cuopt_thin_client/credentials.json"
   ]
  },
  {
   "cell_type": "code",
   "execution_count": 42,
   "id": "c67efeef-bfeb-4674-bf63-c3c52b846a11",
   "metadata": {},
   "outputs": [
    {
     "name": "stdout",
     "output_type": "stream",
     "text": [
      "Cost for the routing in distance:  376.989990234375\n",
      "Vehicle count to complete routing:  10\n",
      "For vehicle - 0 route is: \n",
      "\n",
      "0->60->11->69->33->94->0->0\n",
      "\n",
      "\n",
      "For vehicle - 1 route is: \n",
      "\n",
      "2->88->22->41->57->80->48->34->34->75->70->98->51->73->68->27->2\n",
      "\n",
      "\n",
      "For vehicle - 2 route is: \n",
      "\n",
      "0->10->78->47->18->35->35->44->59->0\n",
      "\n",
      "\n",
      "For vehicle - 3 route is: \n",
      "\n",
      "1->1->29->15->28->14->89->30->36->1\n",
      "\n",
      "\n",
      "For vehicle - 4 route is: \n",
      "\n",
      "2->8->86->87->21->21->82->79->50->13->91->97->74->58->90->63->66->2\n",
      "\n",
      "\n",
      "For vehicle - 5 route is: \n",
      "\n",
      "2->53->61->84->54->55->67->3->85->85->2\n",
      "\n",
      "\n",
      "For vehicle - 6 route is: \n",
      "\n",
      "2->71->42->45->76->96->43->56->52->52->93->72->6->7->49->5->2\n",
      "\n",
      "\n",
      "For vehicle - 7 route is: \n",
      "\n",
      "0->26->19->95->17->4->99->99->12->0\n",
      "\n",
      "\n",
      "For vehicle - 8 route is: \n",
      "\n",
      "2->31->37->77->39->65->74->2\n",
      "\n",
      "\n",
      "For vehicle - 9 route is: \n",
      "\n",
      "0->16->46->25->20->62->64->38->32->32->9->92->83->81->23->40->24->0\n",
      "\n",
      "\n"
     ]
    }
   ],
   "source": [
    "# Solve the problem\n",
    "# solver_response = cuopt_service_client.get_optimized_routes(\n",
    "#     cuopt_problem_data\n",
    "# )\n",
    "\n",
    "# Process returned data\n",
    "solver_resp = {'response': {'solver_response': {'status': 0, 'num_vehicles': 10, 'solution_cost': 376.989990234375, 'vehicle_data': {'0': {'task_id': ['Depot', '57', '8', '66', '30', '91', 'Break', 'Depot'], 'arrival_stamp': [661.806640625, 664.2100219726562, 687.856689453125, 707.7433471679688, 731.7766723632812, 761.4033203125, 781.0, 811.0], 'type': ['Depot', 'Delivery', 'Delivery', 'Delivery', 'Delivery', 'Delivery', 'Break', 'Depot'], 'route': [0, 60, 11, 69, 33, 94, 0, 0]}, '1': {'task_id': ['Depot', '85', '19', '38', '54', '77', '45', 'Break', '31', '72', '67', '95', '48', '70', '65', '24', 'Depot'], 'arrival_stamp': [570.0, 579.4966430664062, 612.6799926757812, 634.5083618164062, 663.538330078125, 688.5750122070312, 719.760009765625, 745.9116821289062, 775.9116821289062, 807.64501953125, 826.0416870117188, 851.32666015625, 877.4716796875, 903.9833374023438, 921.3316650390625, 943.6666870117188, 988.933349609375], 'type': ['Depot', 'Delivery', 'Delivery', 'Delivery', 'Delivery', 'Delivery', 'Delivery', 'Break', 'Delivery', 'Delivery', 'Delivery', 'Delivery', 'Delivery', 'Delivery', 'Delivery', 'Delivery', 'Depot'], 'route': [2, 88, 22, 41, 57, 80, 48, 34, 34, 75, 70, 98, 51, 73, 68, 27, 2]}, '2': {'task_id': ['Depot', '7', '75', '44', '15', 'Break', '32', '41', '56', 'Depot'], 'arrival_stamp': [690.5416870117188, 695.9533081054688, 729.9083251953125, 764.0833129882812, 790.0633544921875, 818.0, 848.0, 869.8250122070312, 897.6683349609375, 929.5133056640625], 'type': ['Depot', 'Delivery', 'Delivery', 'Delivery', 'Delivery', 'Break', 'Delivery', 'Delivery', 'Delivery', 'Depot'], 'route': [0, 10, 78, 47, 18, 35, 35, 44, 59, 0]}, '3': {'task_id': ['Depot', 'Break', '26', '12', '25', '11', '86', '27', '33', 'Depot'], 'arrival_stamp': [738.0, 738.0, 769.3833618164062, 792.0616455078125, 818.8099975585938, 841.1166381835938, 872.143310546875, 891.2566528320312, 922.5133056640625, 951.9849853515625], 'type': ['Depot', 'Break', 'Delivery', 'Delivery', 'Delivery', 'Delivery', 'Delivery', 'Delivery', 'Delivery', 'Depot'], 'route': [1, 1, 29, 15, 28, 14, 89, 30, 36, 1]}, '4': {'task_id': ['Depot', '5', '83', '84', '18', 'Break', '79', '76', '47', '10', '88', '94', '71', '55', '87', '60', '63', 'Depot'], 'arrival_stamp': [618.6849975585938, 622.4266967773438, 653.5616455078125, 674.219970703125, 692.0, 711.0, 741.7133178710938, 766.4933471679688, 783.4666748046875, 801.6616821289062, 829.719970703125, 858.1283569335938, 881.094970703125, 910.60498046875, 928.9183349609375, 959.4166870117188, 991.5066528320312, 1024.3717041015625], 'type': ['Depot', 'Delivery', 'Delivery', 'Delivery', 'Delivery', 'Break', 'Delivery', 'Delivery', 'Delivery', 'Delivery', 'Delivery', 'Delivery', 'Delivery', 'Delivery', 'Delivery', 'Delivery', 'Delivery', 'Depot'], 'route': [2, 8, 86, 87, 21, 21, 82, 79, 50, 13, 91, 97, 74, 58, 90, 63, 66, 2]}, '5': {'task_id': ['Depot', '50', '58', '81', '51', '52', '64', '0', 'Break', '82', 'Depot'], 'arrival_stamp': [628.5816650390625, 630.0, 662.8599853515625, 681.8200073242188, 711.6466674804688, 730.719970703125, 756.8416748046875, 771.8599853515625, 794.3633422851562, 824.3633422851562, 850.7366943359375], 'type': ['Depot', 'Delivery', 'Delivery', 'Delivery', 'Delivery', 'Delivery', 'Delivery', 'Delivery', 'Break', 'Delivery', 'Depot'], 'route': [2, 53, 61, 84, 54, 55, 67, 3, 85, 85, 2]}, '6': {'task_id': ['Depot', '68', '39', '42', '73', '93', '40', '53', '49', 'Break', '90', '69', '3', '4', '46', '2', 'Depot'], 'arrival_stamp': [555.0, 561.135009765625, 601.52001953125, 631.9600219726562, 651.3433227539062, 685.0816650390625, 705.3333129882812, 735.0549926757812, 756.4266967773438, 780.4266967773438, 813.5616455078125, 835.2433471679688, 863.780029296875, 891.3866577148438, 907.211669921875, 935.3966674804688, 967.5733032226562], 'type': ['Depot', 'Delivery', 'Delivery', 'Delivery', 'Delivery', 'Delivery', 'Delivery', 'Delivery', 'Delivery', 'Break', 'Delivery', 'Delivery', 'Delivery', 'Delivery', 'Delivery', 'Delivery', 'Depot'], 'route': [2, 71, 42, 45, 76, 96, 43, 56, 52, 52, 93, 72, 6, 7, 49, 5, 2]}, '7': {'task_id': ['Depot', '23', '16', '92', '14', '1', '96', 'Break', '9', 'Depot'], 'arrival_stamp': [653.5966796875, 655.8099975585938, 690.5333251953125, 714.3316650390625, 737.3533325195312, 759.8333129882812, 793.0, 818.0, 861.4400024414062, 888.288330078125], 'type': ['Depot', 'Delivery', 'Delivery', 'Delivery', 'Delivery', 'Delivery', 'Delivery', 'Break', 'Delivery', 'Depot'], 'route': [0, 26, 19, 95, 17, 4, 99, 99, 12, 0]}, '8': {'task_id': ['Depot', '28', '34', '74', '36', '62', 'Break', 'Depot'], 'arrival_stamp': [597.193359375, 600.0, 620.239990234375, 646.7150268554688, 674.6400146484375, 703.64501953125, 727.0650024414062, 762.3699951171875], 'type': ['Depot', 'Delivery', 'Delivery', 'Delivery', 'Delivery', 'Delivery', 'Break', 'Depot'], 'route': [2, 31, 37, 77, 39, 65, 74, 2]}, '9': {'task_id': ['Depot', '13', '43', '22', '17', '59', '61', '35', '29', 'Break', '6', '89', '80', '78', '20', '37', '21', 'Depot'], 'arrival_stamp': [555.0, 557.181640625, 592.4266967773438, 614.2816772460938, 641.2633056640625, 672.5433349609375, 691.8300170898438, 721.8049926757812, 743.1300048828125, 766.1300048828125, 796.2050170898438, 821.3516845703125, 841.4500122070312, 864.5533447265625, 885.9216918945312, 912.5466918945312, 939.92333984375, 974.6233520507812], 'type': ['Depot', 'Delivery', 'Delivery', 'Delivery', 'Delivery', 'Delivery', 'Delivery', 'Delivery', 'Delivery', 'Break', 'Delivery', 'Delivery', 'Delivery', 'Delivery', 'Delivery', 'Delivery', 'Delivery', 'Depot'], 'route': [0, 16, 46, 25, 20, 62, 64, 38, 32, 32, 9, 92, 83, 81, 23, 40, 24, 0]}}}}, 'reqId': '45078585-416b-450c-af5e-d4fd7e76d65f'}\n",
    "solver_resp = solver_resp[\"response\"][\"solver_response\"]\n",
    "\n",
    "location_names = [str(x) for x in locations_df.index.tolist()]\n",
    "\n",
    "if solver_resp[\"status\"] == 0:\n",
    "    print(\"Cost for the routing in distance: \", solver_resp[\"solution_cost\"])\n",
    "    print(\"Vehicle count to complete routing: \", solver_resp[\"num_vehicles\"])\n",
    "    show_vehicle_routes(solver_resp, location_names)\n",
    "else:\n",
    "    print(\"NVIDIA cuOpt Failed to find a solution with status : \", solver_resp[\"status\"])"
   ]
  },
  {
   "cell_type": "markdown",
   "id": "be379147",
   "metadata": {},
   "source": [
    "<br>\n",
    "\n",
    "## Visualize the Routes\n",
    "\n",
    "In the drop down menu below, you can select different vehicle ID's to see if they are dispatched. If they are, we print their assigned route on a map.\n",
    "\n",
    "\n",
    "Generating a route and map uses third party tools and takes about 30 seconds to run."
   ]
  },
  {
   "cell_type": "code",
   "execution_count": 43,
   "id": "51c436bf",
   "metadata": {},
   "outputs": [
    {
     "data": {
      "application/vnd.jupyter.widget-view+json": {
       "model_id": "84296ad0c92f43c79a29073981e451a6",
       "version_major": 2,
       "version_minor": 0
      },
      "text/plain": [
       "interactive(children=(Dropdown(description='Vehicle ID:', options=(0, 1, 2, 3, 4, 5, 6, 7, 8, 9), value=0), Ou…"
      ]
     },
     "metadata": {},
     "output_type": "display_data"
    },
    {
     "data": {
      "text/plain": [
       "<function __main__.on_change(value)>"
      ]
     },
     "execution_count": 43,
     "metadata": {},
     "output_type": "execute_result"
    }
   ],
   "source": [
    "from IPython.display import display, Markdown, clear_output\n",
    "import ipywidgets as widgets\n",
    "from ipywidgets import interact\n",
    "\n",
    "w = widgets.Dropdown(\n",
    "    options = list(vehicles_df.index.values),\n",
    "    description='Vehicle ID:',\n",
    ")\n",
    "\n",
    "def on_change(value):\n",
    "    if str(value) in list(solver_resp['vehicle_data'].keys()):\n",
    "        curr_route_df = pd.DataFrame(solver_resp[\"vehicle_data\"][str(value)]['route'], columns=[\"stop_index\"])\n",
    "        curr_route_df = pd.merge(curr_route_df, locations_df, how=\"left\", left_on=[\"stop_index\"], right_on=[\"index\"])\n",
    "        display(get_map_by_vehicle(curr_route_df))        \n",
    "    else:\n",
    "        print(\"This Vehicle is not assigned to any order!!\")\n",
    "\n",
    "interact(on_change, value=w)"
   ]
  }
 ],
 "metadata": {
  "kernelspec": {
   "display_name": "Python 3 (ipykernel)",
   "language": "python",
   "name": "python3"
  },
  "language_info": {
   "codemirror_mode": {
    "name": "ipython",
    "version": 3
   },
   "file_extension": ".py",
   "mimetype": "text/x-python",
   "name": "python",
   "nbconvert_exporter": "python",
   "pygments_lexer": "ipython3",
   "version": "3.9.12"
  }
 },
 "nbformat": 4,
 "nbformat_minor": 5
}
