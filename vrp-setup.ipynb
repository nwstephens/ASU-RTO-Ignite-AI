{
 "cells": [
  {
   "cell_type": "markdown",
   "id": "a310374b",
   "metadata": {},
   "source": [
    "# <center><font color=#76B900 size=\"+3\"><b>**NVIDIA cuOpt for CVRPTW**</b></font></center>\n",
    "---\n",
    "\n",
    "**Learning Objectives:**\n",
    "- Introducing multiple cosntrints to model more complex problems\n",
    "- Using real-world data and running data preprocessing\n",
    "- Integrating third-party tools for traffic data\n",
    "  \n",
    "In this notebook, we will use cuOpt to solve a real world application of a Capacitated Vehicle Routing Problem with Time Windows (CVRPTW). This use case is also called Last Mile Delivery (LMD).\n",
    "\n",
    "Suppose you are working as an Optimization Scientist at a grocery chain throughout New York City. There are 97 stores and 3 distribution centers. Every day, stores place an order for food that must be delivered the next day to ensure they are fully stocked. Given input data about stores' orders, distribution centers, and the available fleet of vehicles, it is your job to calculate the route for each vehicle such that all orders are fulfilled while minimizing vehicles' travel time and cost. For a problem space of 100 locations there are about 100! possible routes. You can do the math yourself- but that's a lot. Lucky for you, you have access to the cuOpt solver. All you need to do is read the input data and preprocess the data. Once all the data is ready, you just need to save it to one Python dictionary and send it to cuOpt, which does all the hard computation for you.\n",
    "\n",
    "Let's walk through these steps. \n",
    "\n",
    "For the Last Mile Delivery (LMD) use case, we need 3 datasets with the following features:\n",
    "\n",
    "- Depots\n",
    "    - Name\n",
    "    - Location\n",
    "    - Start and end time (operation hours)\n",
    "- Orders\n",
    "    - Store Name\n",
    "    - Location\n",
    "    - Start and end time (store hours)\n",
    "    - Demand\n",
    "    - Service time\n",
    "    - Loyalty Member\n",
    "    - Delivery Requirement\n",
    "- Vehicles\n",
    "    - Name/ID Number\n",
    "    - Assigned depot\n",
    "    - Start and end time (vehicle/driver shift hours)\n",
    "    - Break time\n",
    "    - Capacity\n",
    "    - Max time\n",
    "    \n",
    "You may have additional features depending on the problem at hand.\n"
   ]
  },
  {
   "cell_type": "markdown",
   "id": "327d93b2",
   "metadata": {},
   "source": [
    "<br>\n",
    "\n",
    "## Read input data from CSV files"
   ]
  },
  {
   "cell_type": "markdown",
   "id": "4e2f06bb",
   "metadata": {},
   "source": [
    "Here, we are using real world addresses instead of points in the Euclidean space. Location data needs to be in the form of coordinate points (longitude and latitude values). Our data already has coordinate points included. If you're using new data and need to do so yourself, you will need to use a third party tool."
   ]
  },
  {
   "cell_type": "markdown",
   "id": "3961bd53-8dd8-4dd9-be82-904788b8c828",
   "metadata": {},
   "source": [
    "In this workflow, we are using locations from the following [Kaggle dataset](https://www.kaggle.com/datasets/arianazmoudeh/airbnbopendata). This is a dataset of Airbnbs in New York City. Our problem space has 100 locations total which includes 3 depots and 97 orders. The coordinate points are taken from the dataset and the rest of the features are synthetic data. We have 15 vehicles available."
   ]
  },
  {
   "cell_type": "code",
   "execution_count": 2,
   "id": "98067624",
   "metadata": {},
   "outputs": [],
   "source": [
    "DATA_PATH = \"data/\"\n",
    "\n",
    "orders_df = pd.read_csv(DATA_PATH+\"orders_lmd.csv\")\n",
    "depots_df = pd.read_csv(DATA_PATH+\"depots_lmd.csv\")\n",
    "vehicles_df = pd.read_csv(DATA_PATH+\"vehicles_lmd.csv\")"
   ]
  },
  {
   "cell_type": "code",
   "execution_count": 3,
   "id": "1377201a-aed2-4289-9afb-fa010549c232",
   "metadata": {},
   "outputs": [],
   "source": [
    "n_depots = len(depots_df.index)\n",
    "n_orders = len(orders_df.index)\n",
    "n_vehicles = len(vehicles_df.index)\n",
    "\n",
    "n_loc_total = n_orders + n_depots"
   ]
  },
  {
   "cell_type": "code",
   "execution_count": 4,
   "id": "3f7410c2-ab27-4e34-a1ec-be7a0a81ebbe",
   "metadata": {},
   "outputs": [],
   "source": [
    "locations_df = (pd.concat([depots_df[[\"Name\",\"Longitude\",\"Latitude\"]], orders_df[[\"Name\",\"Longitude\",\"Latitude\"]]], ignore_index=True)).reset_index()"
   ]
  },
  {
   "cell_type": "markdown",
   "id": "ee8cfacb",
   "metadata": {},
   "source": [
    "<br>\n",
    "\n",
    "## Create Cost Matrix\n",
    "\n",
    "The **cost matrix** models the cost between each pair of locations.  It is used by cuOpt to compute the cost of traveling from any location to any other. The cost matrix needs to be a square matrix of dimension equal to the total number of locations which inlcludes both depots and orders. In this Vehicle Routing Problem, our cost metric is travel time. This is cost we want to minimize. \n",
    "\n",
    "To build a a cost matrix of live traffic data, we need to use a third party map data provider. In this workflow, the cost matrix will calculate the travel time in minutes between each two pairs of locations which we build using [OSRM](https://project-osrm.org/).\n",
    "\n",
    "\n",
    "In practical applications, you can integrate this to a third-party map data provider like Esri or Google Maps to get live traffic data and run dynamic/real-time re-routing using cuOpt."
   ]
  },
  {
   "cell_type": "code",
   "execution_count": 13,
   "id": "2d83b1a0",
   "metadata": {},
   "outputs": [],
   "source": [
    " def build_travel_time_matrix(df):\n",
    "    latitude = df.Latitude.to_numpy()\n",
    "    longitude = df.Longitude.to_numpy()\n",
    "    \n",
    "    locations=\"\"\n",
    "    n_orders = len(df)\n",
    "    for i in range(n_orders):\n",
    "        locations = locations + \"{},{};\".format(longitude[i], latitude[i])\n",
    "    r = requests.get(\"http://router.project-osrm.org/table/v1/car/\"+ locations[:-1])\n",
    "    routes = json.loads(r.content)\n",
    "    \n",
    "    # OSRM returns duration in seconds. Here we are converting to minutes\n",
    "    for i in routes['durations']:\n",
    "        i[:] = [x / 60 for x in i]\n",
    "    \n",
    "    coords_index = { i: (latitude[i], longitude[i]) for i in range(df.shape[0])}\n",
    "    time_matrix = pd.DataFrame(routes['durations'])\n",
    "    \n",
    "    return time_matrix"
   ]
  },
  {
   "cell_type": "code",
   "execution_count": 14,
   "id": "508620d5",
   "metadata": {},
   "outputs": [],
   "source": [
    "cost_matrix_df = build_travel_time_matrix(locations_df)"
   ]
  },
  {
   "cell_type": "markdown",
   "id": "66310b3b",
   "metadata": {},
   "source": [
    "<br>\n",
    "\n",
    "## Preprocess Fleet and Task Data\n",
    "\n",
    "Here, we take our raw input data and convert it to the format needed for cuOpt."
   ]
  },
  {
   "cell_type": "markdown",
   "id": "87dbc6d9",
   "metadata": {},
   "source": [
    "### Set Fleet Data"
   ]
  },
  {
   "cell_type": "markdown",
   "id": "1ee272e2",
   "metadata": {},
   "source": [
    "Here we take our raw data from the csv file and convert it into data that we can send to the cuOpt solver.\n",
    "\n",
    "- vehicle_locations is a list of the start and end location of the vehicles. Each vehicle is assigned to a depot from which it departs in the morning and returns to at night. For example, a vehicle that starts and ends in depot 1 which is the location at index 0 would have the vehicle location of [0,0]. \n",
    "\n",
    "- capacities is a list of how much goods each vehicle can carry in weight. Here we have two different types of vehicles: trucks and EV vans. A truck can carry up to 20,000 pounds and an EV van can carry up to 8,000 pounds. This is essential when assigning orders to vehicles because one vehicle can only carry so many orders at once. \n",
    "\n",
    "- vehicle_time_windows is a list of the integer representation of the operating time of each vehicle. Equivalently, the shift of each vehicle driver. We convert the UTC timestamp to epoch time (integer representation in minutes).\n",
    "\n",
    "- vehicle_break_time_windows is a list of the integer representation of break time of each vehicle within its operating time. For a driver working an 8 hour shift, this break in the middle of the day represents their lunch break. These time windows are when their lunch break may occur.\n",
    "  \n",
    "- vehicle_break_durations is the length of the break. Here, we set the duration to be 30 minutes for all vehicles. \n",
    "\n",
    "- vehicle_max_time is a list of the maximum time a vehicle can operate. Even if a driver is available for a long period of time, this constraint enforces a maximum length for a driver's shift. This is also given in minutes. A driver's time window represents total availability which may be longer than a standard shift length. If a driver says they are available to work from 9am to 9pm, we still want to limit their shift to be shorter. A truck driver can drive up to 7 hours, and an EV driver can drive up to 4 hours. "
   ]
  },
  {
   "cell_type": "code",
   "execution_count": 6,
   "id": "f9cdc911",
   "metadata": {},
   "outputs": [],
   "source": [
    "depot_names_to_indices_dict = {locations_df[\"Name\"].values.tolist()[i]: i for i in range(n_depots)}\n",
    "vehicle_locations = vehicles_df[[\"assigned_depot\",\"assigned_depot\"]].replace(depot_names_to_indices_dict).values.tolist()"
   ]
  },
  {
   "cell_type": "code",
   "execution_count": 7,
   "id": "8140752d",
   "metadata": {},
   "outputs": [],
   "source": [
    "capacities = [[int(a) for a in vehicles_df['vehicle_capacity'].tolist()]]"
   ]
  },
  {
   "cell_type": "code",
   "execution_count": 8,
   "id": "f0520835",
   "metadata": {},
   "outputs": [],
   "source": [
    "vehicle_time_windows = pd.concat((vehicles_df['vehicle_start'].apply(get_minutes_from_datetime).to_frame(), vehicles_df['vehicle_end'].apply(get_minutes_from_datetime).to_frame()), axis=1).values.tolist()"
   ]
  },
  {
   "cell_type": "code",
   "execution_count": 9,
   "id": "4c91b7db-e09c-44ea-b004-354fb6f87a05",
   "metadata": {},
   "outputs": [],
   "source": [
    "vehicle_break_time_windows = [pd.concat((vehicles_df['break_start'].apply(get_minutes_from_datetime).to_frame(), vehicles_df['break_end'].apply(get_minutes_from_datetime).to_frame()), axis=1).values.tolist()]"
   ]
  },
  {
   "cell_type": "code",
   "execution_count": 10,
   "id": "5b905b81-3881-4217-8f89-d4ebd44aa6be",
   "metadata": {},
   "outputs": [],
   "source": [
    "vehicle_break_durations = [[30] * n_vehicles]"
   ]
  },
  {
   "cell_type": "code",
   "execution_count": 11,
   "id": "1567d1b2-caca-4fb0-9706-20c97db350ef",
   "metadata": {},
   "outputs": [],
   "source": [
    "vehicles_max_time = vehicles_df['max_time'].tolist()"
   ]
  },
  {
   "cell_type": "markdown",
   "id": "49c9a0d3",
   "metadata": {},
   "source": [
    "### Set Task Data\n"
   ]
  },
  {
   "cell_type": "markdown",
   "id": "16fc19fb",
   "metadata": {},
   "source": [
    "Here we take our raw data from the csv file and convert it into data that we can send to the cuOpt solver.\n",
    "\n",
    "- task_locations is the list of stores that have placed an order. This list is simply the index of each location. \n",
    "\n",
    "- task_time_windows is the list of integer representation of opening hours for each store. We convert the UTC timestamp to epoch time (integer representation in minutes).\n",
    "\n",
    "- service_times is the list of the length of time for orders to be dropped off once the vehicle reaches the location. Here, these values are between 15 and 30 minutes.\n",
    "\n",
    "- demand is the list of weight demand for each order. Here, these values are between 40 and 200 pounds. \n",
    "\n",
    "- vehicle_match_list allows us to ensure that some orders are assigned to specific vehicles. In this use case, some of the orders are frozen and can be delivered in trucks and not EV vans. Here we can indicate that the frozen orders are assigned specifically to vehicles that are trucks.  "
   ]
  },
  {
   "cell_type": "code",
   "execution_count": 15,
   "id": "36ed75d3",
   "metadata": {},
   "outputs": [],
   "source": [
    "task_locations = locations_df.index.tolist()[n_depots:]"
   ]
  },
  {
   "cell_type": "code",
   "execution_count": 16,
   "id": "a7b46d22",
   "metadata": {},
   "outputs": [],
   "source": [
    "demands = [orders_df['Demand'].values.tolist()]"
   ]
  },
  {
   "cell_type": "code",
   "execution_count": 17,
   "id": "1215178a",
   "metadata": {},
   "outputs": [],
   "source": [
    "service_times = orders_df['ServiceTime'].values.tolist()"
   ]
  },
  {
   "cell_type": "code",
   "execution_count": 18,
   "id": "6d734475",
   "metadata": {},
   "outputs": [],
   "source": [
    "task_time_windows = pd.concat((orders_df['order_start_time'].apply(get_minutes_from_datetime).to_frame(), orders_df['order_end_time'].apply(get_minutes_from_datetime).to_frame()), axis=1).values.tolist()"
   ]
  },
  {
   "cell_type": "code",
   "execution_count": 19,
   "id": "061e0701-de16-45fc-9bac-556d8af25be8",
   "metadata": {},
   "outputs": [],
   "source": [
    "trucks_ids = vehicles_df['vehicle_type'][vehicles_df['vehicle_type']==\"Truck\"].index.values.tolist()"
   ]
  },
  {
   "cell_type": "code",
   "execution_count": 20,
   "id": "0447d298-94b0-4630-bc20-1a7ace475ae3",
   "metadata": {
    "tags": []
   },
   "outputs": [],
   "source": [
    "vehicle_match_list = []\n",
    "for i in orders_df['is_frozen'][orders_df['is_frozen']==1].index.values.tolist():\n",
    "    vehicle_match_list.append({\"order_id\": i, \"vehicle_ids\": trucks_ids})"
   ]
  },
  {
   "cell_type": "markdown",
   "id": "bf0db186",
   "metadata": {},
   "source": [
    "<br>\n",
    "\n",
    "## Save data in a dictionary\n",
    "\n",
    "Here, we take all the data we have prepared so far and save it to one dictionary. This includes the cost matrices, task data, fleet data, and solver config. This is all the data that cuOpt needs to solve our LMD problem. "
   ]
  },
  {
   "cell_type": "code",
   "execution_count": 34,
   "id": "5596a044-d26c-4c2a-8ed5-db7374564ccc",
   "metadata": {},
   "outputs": [],
   "source": [
    "cuopt_problem_data = {\n",
    "    \"cost_matrix_data\": {\n",
    "        \"cost_matrix\": {\n",
    "            \"0\": cost_matrix_df.to_numpy().tolist()\n",
    "        }\n",
    "    },\n",
    "    \"travel_time_matrix_data\": {\n",
    "        \"cost_matrix\": {\n",
    "            \"0\": cost_matrix_df.to_numpy().tolist()\n",
    "        }\n",
    "    },\n",
    "    \"task_data\": {\n",
    "        \"task_locations\": task_locations,\n",
    "        \"demand\": demands,\n",
    "        \"task_time_windows\": task_time_windows,\n",
    "        \"service_times\":service_times,\n",
    "        \"order_vehicle_match\": vehicle_match_list,\n",
    "    },\n",
    "    \"fleet_data\": {\n",
    "        \"vehicle_locations\": vehicle_locations,\n",
    "        \"capacities\": capacities,\n",
    "        \"vehicle_time_windows\": vehicle_time_windows,\n",
    "        \"vehicle_break_time_windows\": vehicle_break_time_windows,\n",
    "        \"vehicle_break_durations\": vehicle_break_durations,\n",
    "        \"vehicle_max_times\": vehicles_max_time,\n",
    "    },\n",
    "    \"solver_config\": {\n",
    "        \"time_limit\": 0.1,\n",
    "    }\n",
    "}"
   ]
  },
  {
   "cell_type": "code",
   "execution_count": 35,
   "id": "ee0c09c0-a6c4-4161-9e98-501a1f89ee23",
   "metadata": {},
   "outputs": [],
   "source": [
    "import json\n",
    "# Convert and write JSON object to file\n",
    "with open(\"cuopt_data_lmd.json\", \"w\") as outfile: \n",
    "    json.dump(cuopt_problem_data, outfile)"
   ]
  }
 ],
 "metadata": {
  "kernelspec": {
   "display_name": "Python 3",
   "language": "python",
   "name": "python3"
  },
  "language_info": {
   "codemirror_mode": {
    "name": "ipython",
    "version": 3
   },
   "file_extension": ".py",
   "mimetype": "text/x-python",
   "name": "python",
   "nbconvert_exporter": "python",
   "pygments_lexer": "ipython3",
   "version": "3.10.2"
  }
 },
 "nbformat": 4,
 "nbformat_minor": 5
}
